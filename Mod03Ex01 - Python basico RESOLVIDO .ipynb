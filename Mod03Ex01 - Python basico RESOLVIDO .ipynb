{
 "cells": [
  {
   "cell_type": "markdown",
   "metadata": {},
   "source": [
    "### 01 - Teste de gravidez\n",
    "Escreva uma célula com controle de fluxos que tem como premissa a existência das seguintes variáveis:\n",
    "\n",
    "- ```sexo``` como ```str``` indicando os valores '**M**' para masculino e '**F**' para feminino  \n",
    "- ```beta_hcg``` que indica a quantidade do beta-HCG no sangue em mUI/mL.\n",
    "\n",
    "A sua tarefa é escrever um código que imprima como resultado \"indivíduo do sexo masculino\" quando sexo = 'M', caso sexo = 'F', se o valor de beta-HCG for maior que 5, retorne \"Positivo\" indicando que a paciente está grávida, e retorne \"Negativo\" caso contrário.\n",
    "\n",
    "Não mexa nos valores da variável ```sexo``` nem em ```beta_hcg```, e escreva um código que funcione para quaisquer valores possíveis de ambos: ```sexo``` = '**M**' ou '**F**' e ```beta_hcg``` assumindo valores inteiros positivos."
   ]
  },
  {
   "cell_type": "code",
   "execution_count": 28,
   "metadata": {
    "tags": []
   },
   "outputs": [
    {
     "name": "stdout",
     "output_type": "stream",
     "text": [
      "Individuo do sexo Masculino\n"
     ]
    }
   ],
   "source": [
    "sexo = 'M'\n",
    "beta_hcg = 0\n",
    "\n",
    "# seu código vem abaixo desta linha\n",
    "if sexo == 'M':\n",
    "    print ('Individuo do sexo Masculino')\n",
    "elif beta_hcg > 5:\n",
    "    print ('Individuo do sexo Feminino')\n",
    "    print('Teste de gravidez POSITIVO')\n",
    "else:\n",
    "    print ('Individuo do sexo Feminino')\n",
    "    print('Teste de gravides NEGATIVO')"
   ]
  },
  {
   "cell_type": "markdown",
   "metadata": {},
   "source": [
    "### 02 - Renomeando variáveis\n",
    "\n",
    "Vamos ver adiante que uma forma de renomear variáveis de um conjunto de dados é através de dicionários - o dicionário deve conter como chave o nome original, associando a cada chave um único valor (tipo *str*) que contenha o nome novo.\n",
    "\n",
    "A sua tarefa é escrever um dicionário que possa ser utilizado para traduzir as variáveis ```name``` (nome), ```age``` (idade) e ```income``` (renda). Ou seja, esse dicionário deve relacionar as chaves *name, age* e *income* às suas respectivas traduções."
   ]
  },
  {
   "cell_type": "code",
   "execution_count": 29,
   "metadata": {},
   "outputs": [
    {
     "data": {
      "text/plain": [
       "{'name': 'nome', 'age': 'idade', 'income': 'renda'}"
      ]
     },
     "execution_count": 29,
     "metadata": {},
     "output_type": "execute_result"
    }
   ],
   "source": [
    "dic_renomeacao = {'name': 'nome', 'age':'idade', 'income':'renda'}\n",
    "dic_renomeacao"
   ]
  },
  {
   "cell_type": "markdown",
   "metadata": {},
   "source": [
    "### 03 - É divisível?\n",
    "A sua tarefa é escrever um código que indique se um número ```N``` é divisível por um número P. Escreva um programa que faça essa verificação para quaisquer combinações de ```N``` e ```M``` e devolva uma mensagem indicativa no output."
   ]
  },
  {
   "cell_type": "code",
   "execution_count": 54,
   "metadata": {},
   "outputs": [
    {
     "name": "stdout",
     "output_type": "stream",
     "text": [
      "Digite o valor de \"P\"\n"
     ]
    },
    {
     "name": "stdin",
     "output_type": "stream",
     "text": [
      " 4\n"
     ]
    },
    {
     "name": "stdout",
     "output_type": "stream",
     "text": [
      "\"N\" não é divisivel por \"P\"\n",
      " Resultado final não é um número Inteiro\n"
     ]
    }
   ],
   "source": [
    "N = 42\n",
    "M = 7\n",
    "\n",
    "#Seu código\n",
    "print('Digite o valor de \"P\"')\n",
    "P = int(input())\n",
    "#print(N % P)  \n",
    "if  N % P == 0:\n",
    "    print('\"N\" é divisivel por \"P\"')\n",
    "else:\n",
    "    print('\"N\" não é divisivel por \"P\"\\n Resultado final não é um número Inteiro')\n",
    "    \n",
    "        "
   ]
  },
  {
   "cell_type": "markdown",
   "metadata": {},
   "source": [
    "### 04 - Números primos\n",
    "> Um número **N** é primo se e somente se é divisível por 1, -1, por **N** e por -**N**.  \n",
    "\n",
    "Escreva um script que verifica se ```N``` é um número primo, verificando se ```N``` é divisível por todos os números de ```1``` a ```N-1```. Você vai precisar usar alguma ferramenta de *loop* que você aprendeu para isto. No final, devolva uma mensagem no output indicando se o número é primo ou não."
   ]
  },
  {
   "cell_type": "code",
   "execution_count": 74,
   "metadata": {},
   "outputs": [
    {
     "name": "stdin",
     "output_type": "stream",
     "text": [
      "Digite um número para sabermos se ele é primo:\n",
      " 98\n"
     ]
    },
    {
     "name": "stdout",
     "output_type": "stream",
     "text": [
      "98 não primo\n"
     ]
    }
   ],
   "source": [
    "#N = 47\n",
    "\n",
    "# seu código aqui\n",
    "N = int(input(\"Digite um número para sabermos se ele é primo:\\n\"))\n",
    "cont = 0\n",
    "i = 0\n",
    "\n",
    "while i <= N or cont < 2:\n",
    "    i = i + 1\n",
    "    x = N % i\n",
    "    if x == 0:\n",
    "        cont = cont + 1\n",
    "\n",
    "if cont <= 2:\n",
    "    print(N,\"é primo\")\n",
    "else:\n",
    "    print(N,\"não primo\")"
   ]
  },
  {
   "cell_type": "markdown",
   "metadata": {},
   "source": [
    "### 05 - Desafio\n",
    "O algorítmo do exercício anterior não é o mais eficiente. O que você pode fazer para deixá-lo mais eficiente? Ou seja, executar menos comparações, portanto consumir menos tempo.\n",
    "1. Será que precisamos correr o loop até o final sempre?\n",
    "2. Será que precisamos mesmo verificar **todos** os números?\n",
    "3. Será que precisamos ir até N-1?\n",
    "\n",
    "Essas perguntas levam ao tipo de pensamento voltado a deixar um algoritmo mais eficiente. Veja se você consegue melhorar o seu."
   ]
  },
  {
   "cell_type": "code",
   "execution_count": 75,
   "metadata": {},
   "outputs": [
    {
     "name": "stdin",
     "output_type": "stream",
     "text": [
      "Digite um número para sabermos se ele é primo:\n",
      " 98\n"
     ]
    },
    {
     "name": "stdout",
     "output_type": "stream",
     "text": [
      "Múltiplo de 2\n",
      "Múltiplo de 7\n",
      "Múltiplo de 14\n",
      "Múltiplo de 49\n",
      "98 Tem 4 múltiplos, logo não é um número primo.\n"
     ]
    }
   ],
   "source": [
    "#N = 98\n",
    "\n",
    "# seu código abaixo\n",
    "N = int(input(\"Digite um número para sabermos se ele é primo:\\n\"))\n",
    "mult=0\n",
    "\n",
    "for countador in range(2,N):\n",
    "    if (N % countador == 0):\n",
    "        print(\"Múltiplo de\",countador)\n",
    "        mult += 1\n",
    "\n",
    "if(mult==0):\n",
    "    print(N,\"É primo\")\n",
    "else:\n",
    "    print(N,\"Tem\",mult,\"múltiplos, logo não é um número primo.\")\n"
   ]
  },
  {
   "cell_type": "markdown",
   "metadata": {},
   "source": [
    "### 06 - Peso ideal 1\n",
    "O IMC (índice de massa corpórea) é um indicador de saúde mais bem aceito que o peso. Ele é calculado como:\n",
    "\n",
    "$$ IMC = \\dfrac{peso}{altura^2}$$\n",
    "\n",
    "Segundo a OMS, valores *normais* são entre 18.5 e 24.9.\n",
    "\n",
    "Sua tarefa é encontrar o ponto médio dessa faixa."
   ]
  },
  {
   "cell_type": "code",
   "execution_count": 76,
   "metadata": {},
   "outputs": [
    {
     "data": {
      "text/plain": [
       "21.7"
      ]
     },
     "execution_count": 76,
     "metadata": {},
     "output_type": "execute_result"
    }
   ],
   "source": [
    "imc_ideal = (18.5 + 24.9) /2\n",
    "imc_ideal"
   ]
  },
  {
   "cell_type": "markdown",
   "metadata": {},
   "source": [
    "### 07 - Peso ideal 2\n",
    "Recebendo um valor de altura, encontre o peso '*ideal*' dessa pessoa, que fornece o IMC encontrado acima"
   ]
  },
  {
   "cell_type": "code",
   "execution_count": 81,
   "metadata": {},
   "outputs": [
    {
     "name": "stdout",
     "output_type": "stream",
     "text": [
      "62.71\n"
     ]
    }
   ],
   "source": [
    "altura = 1.70\n",
    "\n",
    "# Seu código\n",
    "peso_ideal = (altura**2) * 21.7\n",
    "print(\"{:.2f}\".format(peso_ideal))"
   ]
  },
  {
   "cell_type": "markdown",
   "metadata": {},
   "source": [
    "### 08 - Peso ideal 3\n",
    "Dada uma lista contendo as alturas de pacientes, crie uma nova lista que contenha o peso '*ideal*' (que fornece o IMC calculado em **Peso ideal 1**) desses pacientes."
   ]
  },
  {
   "cell_type": "code",
   "execution_count": 121,
   "metadata": {},
   "outputs": [
    {
     "name": "stdout",
     "output_type": "stream",
     "text": [
      "[82.51424999999999, 91.19425, 62.712999999999994, 59.07824999999999]\n"
     ]
    }
   ],
   "source": [
    "lista_alturas = [1.95, 2.05, 1.70, 1.65]\n",
    "\n",
    "lista_peso_ideal = []\n",
    "\n",
    "# seu código\n",
    "imc_0 = lista_alturas[0]**2 * 21.7\n",
    "imc_1 = lista_alturas[1]**2 * 21.7\n",
    "imc_2 = lista_alturas[2]**2 * 21.7\n",
    "imc_3 = lista_alturas[3]**2 * 21.7\n",
    "\n",
    "lista_peso_ideal.append(imc_0)\n",
    "lista_peso_ideal.append(imc_1)\n",
    "lista_peso_ideal.append(imc_2)\n",
    "lista_peso_ideal.append(imc_3)\n",
    "\n",
    "print(lista_peso_ideal)\n",
    "#lista_peso_ideal.append(peso_ideal1)"
   ]
  },
  {
   "cell_type": "markdown",
   "metadata": {},
   "source": [
    "### 09 - Peso ideal 4\n",
    "Dada uma lista de tuplas - cada elemento da lista é uma tupla contendo altura e peso de um paciente - crie uma nova lista com o IMC desses pacientes."
   ]
  },
  {
   "cell_type": "code",
   "execution_count": 148,
   "metadata": {},
   "outputs": [
    {
     "name": "stdout",
     "output_type": "stream",
     "text": [
      "[27.777777777777775, 27.548209366391188, 19.188070502453332]\n"
     ]
    }
   ],
   "source": [
    "altura_peso = [(1.80, 90), (1.65, 75), (1.91, 70)]\n",
    "\n",
    "imc = []\n",
    "\n",
    "# seu código\n",
    "tupla_1 = 90 / (1.80**2)\n",
    "tupla_2 = 75 / (1.65**2)\n",
    "tupla_3 = 70 / (1.91**2)\n",
    "\n",
    "imc.append(tupla_1)\n",
    "imc.append(tupla_2)\n",
    "imc.append(tupla_3)\n",
    "\n",
    "print(imc)\n"
   ]
  },
  {
   "cell_type": "markdown",
   "metadata": {},
   "source": [
    "### 10 - Peso ideal 5\n",
    "Dada uma lista de **listas** - cada elemento da lista é uma **lista** contendo altura e peso de um paciente, adicione mais um elemento à lista de cada paciente contendo o IMC do paciente. Verifique também se é 'baixo', 'normal' ou 'alto' segundo os padrões da OMS em que normal é entre 18.5 e 24.9.\n",
    "\n",
    "Reflexão: por que no problema anterior temos que criar uma nova lista, e não podemos adicionar os dados de cada indivíduo à tupla?"
   ]
  },
  {
   "cell_type": "code",
   "execution_count": 14,
   "metadata": {},
   "outputs": [],
   "source": [
    "altura_peso = [[1.80, 90], [1.65, 75], [1.91, 70]]\n",
    "\n",
    "# seu código\n",
    "\n"
   ]
  },
  {
   "cell_type": "code",
   "execution_count": 15,
   "metadata": {},
   "outputs": [
    {
     "data": {
      "text/plain": [
       "[[1.8, 90, 27.78, 'alto'],\n",
       " [1.65, 75, 27.55, 'alto'],\n",
       " [1.91, 70, 19.19, 'normal']]"
      ]
     },
     "execution_count": 15,
     "metadata": {},
     "output_type": "execute_result"
    }
   ],
   "source": [
    "altura_0, peso_0 = altura_peso[0]\n",
    "altura_1, peso_1 = altura_peso[1]\n",
    "altura_2, peso_2 = altura_peso[2]\n",
    "\n",
    "imc_0 = peso_0 / (altura_0**2)\n",
    "altura_peso[0] = [altura_0,peso_0, round(imc_0,2), 'alto']\n",
    "\n",
    "imc_1 = peso_1 / (altura_1**2)\n",
    "altura_peso[1] = [altura_1,peso_1, round(imc_1,2), 'alto']\n",
    "\n",
    "imc_2 = peso_2 / (altura_2**2)\n",
    "altura_peso[2] = [altura_2,peso_2, round(imc_2,2), 'normal']\n",
    "\n",
    "altura_peso"
   ]
  }
 ],
 "metadata": {
  "kernelspec": {
   "display_name": "Python 3 (ipykernel)",
   "language": "python",
   "name": "python3"
  },
  "language_info": {
   "codemirror_mode": {
    "name": "ipython",
    "version": 3
   },
   "file_extension": ".py",
   "mimetype": "text/x-python",
   "name": "python",
   "nbconvert_exporter": "python",
   "pygments_lexer": "ipython3",
   "version": "3.9.13"
  }
 },
 "nbformat": 4,
 "nbformat_minor": 4
}
